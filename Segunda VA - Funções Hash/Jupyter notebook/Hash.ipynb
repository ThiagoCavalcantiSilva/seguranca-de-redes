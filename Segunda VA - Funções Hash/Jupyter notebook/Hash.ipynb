{
  "cells": [
    {
      "cell_type": "markdown",
      "metadata": {
        "id": "g8a9C9kYEuhv"
      },
      "source": [
        "# Dependências"
      ]
    },
    {
      "cell_type": "code",
      "execution_count": 5,
      "metadata": {
        "colab": {
          "base_uri": "https://localhost:8080/"
        },
        "id": "sQiNXdUmRrNE",
        "outputId": "602db342-196f-4305-ef24-974174cbc5a3"
      },
      "outputs": [],
      "source": [
        "# Para cálculo do hash\n",
        "import hashlib\n",
        "\n",
        "# Para deduplicação\n",
        "import os\n",
        "import shutil"
      ]
    },
    {
      "cell_type": "markdown",
      "metadata": {
        "id": "FHQ9eIcVd_TL"
      },
      "source": [
        "# Cálculo do hash de um arquivo"
      ]
    },
    {
      "cell_type": "code",
      "execution_count": 6,
      "metadata": {
        "colab": {
          "base_uri": "https://localhost:8080/",
          "height": 455
        },
        "id": "ImiW8vNBeE-T",
        "outputId": "2e9fde46-39d6-4e59-e3f1-1534c4ae28f9"
      },
      "outputs": [],
      "source": [
        "def calcular_hash(arquivo, algoritmo='sha256'):\n",
        "    \"\"\"\n",
        "    Calcula o hash de um arquivo.\n",
        "\n",
        "    Parâmetros:\n",
        "    arquivo (str): O caminho do arquivo para calcular o hash.\n",
        "    algoritmo (str): O algoritmo de hash a ser utilizado (padrão: 'sha256').\n",
        "\n",
        "    Retorna:\n",
        "    str: O hash hexadecimal do arquivo.\n",
        "    \"\"\"\n",
        "    hasher = hashlib.new(algoritmo)\n",
        "    with open(arquivo, 'rb') as f:\n",
        "        while True:\n",
        "            bloco = f.read(4096)\n",
        "            if not bloco:\n",
        "                break\n",
        "            hasher.update(bloco)\n",
        "    return hasher.hexdigest()"
      ]
    },
    {
      "cell_type": "markdown",
      "metadata": {
        "id": "_jUiwLdwEIs_"
      },
      "source": [
        "# Verificação da integridade de um arquivo"
      ]
    },
    {
      "cell_type": "code",
      "execution_count": 7,
      "metadata": {
        "colab": {
          "base_uri": "https://localhost:8080/"
        },
        "id": "eQqvI2ZXEKaA",
        "outputId": "ee9af8e1-ad94-497f-e84d-a443ccd4afbf"
      },
      "outputs": [],
      "source": [
        "def verificar_integridade(arquivo, hash_esperado, algoritmo='sha256'):\n",
        "    \"\"\"\n",
        "    Verifica se a integridade de um arquivo é mantida, comparando o hash calculado com o hash esperado.\n",
        "\n",
        "    Parâmetros:\n",
        "    arquivo (str): O caminho do arquivo para verificar a integridade.\n",
        "    hash_esperado (str): O hash esperado do arquivo.\n",
        "    algoritmo (str): O algoritmo de hash a ser utilizado (padrão: 'sha256').\n",
        "\n",
        "    Retorna:\n",
        "    bool: True se a integridade for mantida, False caso contrário.\n",
        "    \"\"\"\n",
        "    hash_calculado = calcular_hash(arquivo, algoritmo)\n",
        "    return hash_calculado == hash_esperado\n"
      ]
    },
    {
      "cell_type": "markdown",
      "metadata": {
        "id": "JsJ9VCAk1azz"
      },
      "source": [
        "# Deduplicação de arquivos"
      ]
    },
    {
      "cell_type": "code",
      "execution_count": 8,
      "metadata": {
        "colab": {
          "base_uri": "https://localhost:8080/",
          "height": 455
        },
        "id": "oOsIAiqh1dQ6",
        "outputId": "05b4779d-7ee7-4599-c5e0-12105a3ca469"
      },
      "outputs": [],
      "source": [
        "def deduplicar_arquivos(diretorio):\n",
        "    \"\"\"\n",
        "    Deduplica arquivos em um diretório com base no hash.\n",
        "\n",
        "    Parâmetros:\n",
        "    diretorio (str): O diretório onde a deduplicação será realizada.\n",
        "    \"\"\"\n",
        "    hashes = {}\n",
        "    duplicatas = []\n",
        "\n",
        "    # Itera sobre os arquivos no diretório\n",
        "    for raiz, _, arquivos in os.walk(diretorio):\n",
        "        for arquivo in arquivos:\n",
        "            caminho_arquivo = os.path.join(raiz, arquivo)\n",
        "            hash_arquivo = calcular_hash(caminho_arquivo)\n",
        "\n",
        "            # Verifica se o hash já existe\n",
        "            if hash_arquivo in hashes:\n",
        "                duplicatas.append((caminho_arquivo, hashes[hash_arquivo]))\n",
        "            else:\n",
        "                hashes[hash_arquivo] = caminho_arquivo\n",
        "\n",
        "    # Move os arquivos duplicados para uma pasta de duplicatas\n",
        "    pasta_duplicatas = os.path.join(diretorio, 'Duplicatas')\n",
        "    if not os.path.exists(pasta_duplicatas):\n",
        "        os.makedirs(pasta_duplicatas)\n",
        "\n",
        "    for duplicata, original in duplicatas:\n",
        "        novo_caminho = os.path.join(pasta_duplicatas, os.path.basename(duplicata))\n",
        "        shutil.move(duplicata, novo_caminho)\n",
        "        print(f\"Arquivo '{os.path.basename(duplicata)}' duplicado. Movido para {pasta_duplicatas}.\")"
      ]
    },
    {
      "cell_type": "markdown",
      "metadata": {},
      "source": [
        "# Detecção de intrusão ou vírus"
      ]
    },
    {
      "cell_type": "code",
      "execution_count": 9,
      "metadata": {},
      "outputs": [],
      "source": [
        "def verificar_integridade_arquivos(lista_hashes, diretorio):\n",
        "    \"\"\"\n",
        "    Verifica a integridade dos arquivos em relação aos hashes previamente armazenados.\n",
        "\n",
        "    Parâmetros:\n",
        "    lista_hashes (dict): Um dicionário com os hashes dos arquivos.\n",
        "    diretorio (str): O diretório onde os arquivos estão localizados.\n",
        "    \"\"\"\n",
        "    for arquivo, hash_original in lista_hashes.items():\n",
        "        caminho_arquivo = os.path.join(diretorio, arquivo)\n",
        "        if os.path.isfile(caminho_arquivo):\n",
        "            if verificar_integridade(caminho_arquivo, hash_original):\n",
        "                print(f\"O arquivo '{arquivo}' permanece íntegro.\")\n",
        "            else:\n",
        "                print(f\"O arquivo '{arquivo}' foi modificado!\")\n",
        "        else:\n",
        "            print(f\"O arquivo '{arquivo}' não foi encontrado no diretório.\")"
      ]
    },
    {
      "cell_type": "code",
      "execution_count": 10,
      "metadata": {},
      "outputs": [],
      "source": [
        "def criar_lista_hashes(diretorio):\n",
        "    \"\"\"\n",
        "    Cria uma lista com os hashes dos arquivos em uma determinada pasta.\n",
        "\n",
        "    Parâmetros:\n",
        "    diretorio (str): O diretório onde os arquivos estão localizados.\n",
        "\n",
        "    Retorna:\n",
        "    dict: Um dicionário onde as chaves são os nomes dos arquivos e os valores são os hashes correspondentes.\n",
        "    \"\"\"\n",
        "    lista_hashes = {}\n",
        "    for raiz, _, arquivos in os.walk(diretorio):\n",
        "        for arquivo in arquivos:\n",
        "            caminho_arquivo = os.path.join(raiz, arquivo)\n",
        "            hash_arquivo = calcular_hash(caminho_arquivo)\n",
        "            lista_hashes[arquivo] = hash_arquivo\n",
        "    return lista_hashes\n"
      ]
    },
    {
      "cell_type": "markdown",
      "metadata": {},
      "source": [
        "# Execução"
      ]
    },
    {
      "cell_type": "markdown",
      "metadata": {},
      "source": [
        "### Integridade"
      ]
    },
    {
      "cell_type": "code",
      "execution_count": 26,
      "metadata": {},
      "outputs": [],
      "source": [
        "arquivo = 'arquivo.txt'\n",
        "hash_esperado = calcular_hash(arquivo)"
      ]
    },
    {
      "cell_type": "code",
      "execution_count": 27,
      "metadata": {},
      "outputs": [
        {
          "name": "stdout",
          "output_type": "stream",
          "text": [
            "Integridade do arquivo verificada com sucesso!\n"
          ]
        }
      ],
      "source": [
        "if verificar_integridade(arquivo, hash_esperado):\n",
        "    print(\"Integridade do arquivo verificada com sucesso!\")\n",
        "else:\n",
        "    print(\"Integridade do arquivo comprometida.\")"
      ]
    },
    {
      "cell_type": "code",
      "execution_count": 28,
      "metadata": {},
      "outputs": [
        {
          "name": "stdout",
          "output_type": "stream",
          "text": [
            "Integridade do arquivo comprometida.\n"
          ]
        }
      ],
      "source": [
        "hash_esperado = 'hashAlterado123'\n",
        "\n",
        "if verificar_integridade(arquivo, hash_esperado):\n",
        "    print(\"Integridade do arquivo verificada com sucesso!\")\n",
        "else:\n",
        "    print(\"Integridade do arquivo comprometida.\")"
      ]
    },
    {
      "cell_type": "markdown",
      "metadata": {},
      "source": [
        "### Deduplicação"
      ]
    },
    {
      "cell_type": "code",
      "execution_count": 28,
      "metadata": {},
      "outputs": [
        {
          "name": "stdout",
          "output_type": "stream",
          "text": [
            "Arquivo 'Duplicado.txt' duplicado. Movido para Deduplicação\\Duplicatas.\n",
            "Arquivo 'Duplicata.txt' duplicado. Movido para Deduplicação\\Duplicatas.\n"
          ]
        }
      ],
      "source": [
        "# Deduplica arquivos em um diretório chamado Deduplicação\n",
        "diretorio_deduplicacao = 'Deduplicação'\n",
        "deduplicar_arquivos(diretorio_deduplicacao)"
      ]
    },
    {
      "cell_type": "markdown",
      "metadata": {},
      "source": [
        "### Detecção de intrusão ou vírus"
      ]
    },
    {
      "cell_type": "code",
      "execution_count": 16,
      "metadata": {},
      "outputs": [
        {
          "data": {
            "text/plain": [
              "{'Arquivo 1.txt': 'c7a4909a3b7e7567533605ee12b7cc28ef1b480f4ad6ce78239d832c5ef39aef',\n",
              " 'Arquivo 2.txt': 'bb68fb3f32f412318e39cd5b38c77fb37aa17b9ea4c833543b4f7b0acf50d33d',\n",
              " 'Arquivo 3.txt': '81f926663d2e05d101f663cc7d9417299b59be56a774c8f8e38fc8400cb85ae2'}"
            ]
          },
          "execution_count": 16,
          "metadata": {},
          "output_type": "execute_result"
        }
      ],
      "source": [
        "diretorio_arquivos = 'Detecção de intrusão'\n",
        "lista_hashes = criar_lista_hashes(diretorio_arquivos)\n",
        "lista_hashes"
      ]
    },
    {
      "cell_type": "code",
      "execution_count": 15,
      "metadata": {},
      "outputs": [
        {
          "name": "stdout",
          "output_type": "stream",
          "text": [
            "O arquivo 'Arquivo 1.txt' permanece íntegro.\n",
            "O arquivo 'Arquivo 2.txt' permanece íntegro.\n",
            "O arquivo 'Arquivo 3.txt' permanece íntegro.\n"
          ]
        }
      ],
      "source": [
        "# Verificar integridade dos arquivos em relação aos hashes previamente armazenados\n",
        "verificar_integridade_arquivos(lista_hashes, diretorio_arquivos)"
      ]
    },
    {
      "cell_type": "code",
      "execution_count": 23,
      "metadata": {},
      "outputs": [
        {
          "data": {
            "text/plain": [
              "{'Arquivo 1.txt': 'hashAlterado123',\n",
              " 'Arquivo 2.txt': 'bb68fb3f32f412318e39cd5b38c77fb37aa17b9ea4c833543b4f7b0acf50d33d',\n",
              " 'Arquivo 3.txt': '81f926663d2e05d101f663cc7d9417299b59be56a774c8f8e38fc8400cb85ae2'}"
            ]
          },
          "execution_count": 23,
          "metadata": {},
          "output_type": "execute_result"
        }
      ],
      "source": [
        "lista_hashes['Arquivo 1.txt'] = 'hashAlterado123'\n",
        "lista_hashes"
      ]
    },
    {
      "cell_type": "code",
      "execution_count": 24,
      "metadata": {},
      "outputs": [
        {
          "name": "stdout",
          "output_type": "stream",
          "text": [
            "O arquivo 'Arquivo 1.txt' foi modificado!\n",
            "O arquivo 'Arquivo 2.txt' permanece íntegro.\n",
            "O arquivo 'Arquivo 3.txt' permanece íntegro.\n"
          ]
        }
      ],
      "source": [
        "verificar_integridade_arquivos(lista_hashes, diretorio_arquivos)"
      ]
    }
  ],
  "metadata": {
    "colab": {
      "collapsed_sections": [
        "g8a9C9kYEuhv",
        "FHQ9eIcVd_TL",
        "f8HPd5e6-PWl",
        "sjAVeBjVC4U2",
        "_jUiwLdwEIs_",
        "JsJ9VCAk1azz",
        "GF8IzXbe9xqh"
      ],
      "provenance": []
    },
    "kernelspec": {
      "display_name": "Python 3",
      "name": "python3"
    },
    "language_info": {
      "codemirror_mode": {
        "name": "ipython",
        "version": 3
      },
      "file_extension": ".py",
      "mimetype": "text/x-python",
      "name": "python",
      "nbconvert_exporter": "python",
      "pygments_lexer": "ipython3",
      "version": "3.11.8"
    }
  },
  "nbformat": 4,
  "nbformat_minor": 0
}
