{
 "cells": [
  {
   "cell_type": "markdown",
   "metadata": {
    "collapsed": false
   },
   "source": [
    "# **6. Demonstre, através de um exemplo, como realizar a cifragem de 16 bits \\(dois caracteres\\), em 2 rounds, em seguida, decifre o texto cifrado. Explique o processo passo a passo. Forneça um código Python/Sagemath com sua solução.**\n",
    "\n"
   ]
  },
  {
   "cell_type": "markdown",
   "metadata": {
    "collapsed": false
   },
   "source": [
    "A demonstração está no arquivo pdf.\n",
    "\n",
    "Considerando uma encriptação simples, que aplica apenas um XOR no texto. A chave 1 será %, a chave 2 será U e a palavra será OK. \n"
   ]
  },
  {
   "cell_type": "code",
   "execution_count": 2,
   "metadata": {
    "collapsed": false
   },
   "outputs": [
   ],
   "source": [
    "texto_claro = \"OK\"\n",
    "chave1 = \"%\"\n",
    "chave2 = \"U\""
   ]
  },
  {
   "cell_type": "code",
   "execution_count": 3,
   "metadata": {
    "collapsed": false
   },
   "outputs": [
   ],
   "source": [
    "def caractere_para_binario(caractere):\n",
    "    binario = bin(ord(caractere))[2:]\n",
    "    return '0' * (8 - len(binario)) + binario"
   ]
  },
  {
   "cell_type": "code",
   "execution_count": 4,
   "metadata": {
    "collapsed": false
   },
   "outputs": [
   ],
   "source": [
    "def binario_para_caractere(binario):\n",
    "    decimal = int(binario, 2)\n",
    "    return chr(decimal)"
   ]
  },
  {
   "cell_type": "code",
   "execution_count": 5,
   "metadata": {
    "collapsed": false
   },
   "outputs": [
   ],
   "source": [
    "def encriptar(texto, chave1, chave2):\n",
    "    texto_binario = [caractere_para_binario(caractere) for caractere in texto]\n",
    "    chave1_binaria = caractere_para_binario(chave1)\n",
    "    chave2_binaria = caractere_para_binario(chave2)\n",
    "    \n",
    "    texto_encriptado = ''\n",
    "    for caractere in texto_binario:\n",
    "        xor_chave1 = ''.join(['1' if caractere[i] != chave1_binaria[i] else '0' for i in range(8)])\n",
    "        xor_chave2 = ''.join(['1' if xor_chave1[i] != chave2_binaria[i] else '0' for i in range(8)])\n",
    "        texto_encriptado += binario_para_caractere(xor_chave2)\n",
    "    \n",
    "    return texto_encriptado"
   ]
  },
  {
   "cell_type": "code",
   "execution_count": 6,
   "metadata": {
    "collapsed": false
   },
   "outputs": [
   ],
   "source": [
    "def decriptar(texto_cifrado, chave1, chave2):\n",
    "    chave1_binaria = caractere_para_binario(chave1)\n",
    "    chave2_binaria = caractere_para_binario(chave2)\n",
    "    \n",
    "    texto_decifrado = ''\n",
    "    for caractere in texto_cifrado:\n",
    "        caractere_binario = caractere_para_binario(caractere)\n",
    "        xor_chave2 = ''.join(['1' if caractere_binario[i] != chave2_binaria[i] else '0' for i in range(8)])\n",
    "        xor_chave1 = ''.join(['1' if xor_chave2[i] != chave1_binaria[i] else '0' for i in range(8)])\n",
    "        texto_decifrado += binario_para_caractere(xor_chave1)\n",
    "    \n",
    "    return texto_decifrado"
   ]
  },
  {
   "cell_type": "code",
   "execution_count": 7,
   "metadata": {
    "collapsed": false
   },
   "outputs": [
    {
     "name": "stdout",
     "output_type": "stream",
     "text": [
      "Texto criptografado: ?;\n",
      "Texto descriptografado: OK\n"
     ]
    }
   ],
   "source": [
    "texto_criptografado = encriptar(texto_claro, chave1, chave2)\n",
    "print(\"Texto criptografado:\", texto_criptografado)\n",
    "\n",
    "texto_descriptografado = decriptar(texto_criptografado, chave1, chave2)\n",
    "print(\"Texto descriptografado:\", texto_descriptografado)"
   ]
  }
 ],
 "metadata": {
  "kernelspec": {
   "argv": [
    "sage-10.0",
    "--python",
    "-m",
    "sage.repl.ipython_kernel",
    "--matplotlib=inline",
    "-f",
    "{connection_file}"
   ],
   "display_name": "SageMath 10.0",
   "env": {
   },
   "language": "sagemath",
   "metadata": {
    "cocalc": {
     "description": "Open-source mathematical software system",
     "priority": 1,
     "url": "https://www.sagemath.org/"
    }
   },
   "name": "sage-10.0",
   "resource_dir": "/ext/jupyter/kernels/sage-10.0"
  }
 },
 "nbformat": 4,
 "nbformat_minor": 4
}