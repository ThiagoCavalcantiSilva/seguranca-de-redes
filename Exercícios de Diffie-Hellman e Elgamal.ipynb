{
 "cells": [
  {
   "cell_type": "markdown",
   "metadata": {
    "collapsed": false
   },
   "source": [
    "# **Implemente Diffie\\-Hellman.**\n",
    "\n"
   ]
  },
  {
   "cell_type": "markdown",
   "metadata": {
    "collapsed": false
   },
   "source": [
    "Variáveis:\n",
    "\n",
    "p é o primo \\-&gt; 17\n",
    "\n",
    "α é a raiz primitiva de p \\-&gt; 3\n",
    "\n",
    "PvtKeyA é a chave privada 1 \\-&gt; 15\n",
    "\n",
    "PubKeyA é a chave pública 1 = \\(α^PvtKeyA\\) % primo \\-&gt; 6\n",
    "\n",
    "PvtKeyB é a chave privada 2 \\-&gt; 13\n",
    "\n",
    "PubKeyB é a chave pública 2 = \\(α^PvtKeyB\\) % primo \\-&gt; 12\n",
    "\n",
    "M é o segredo = \\(PubKeyB^PvtKeyA\\) % primo = \\(PubKeyA^PvtKeyB\\) % primo = 10\n"
   ]
  },
  {
   "cell_type": "code",
   "execution_count": 10,
   "metadata": {
    "collapsed": false
   },
   "outputs": [
   ],
   "source": [
    "def obter_primo():\n",
    "    primo = 0\n",
    "    while True:\n",
    "        primo = int(input(\"Insira o número primo público: \"))\n",
    "        if is_prime(primo):\n",
    "            break\n",
    "    return primo"
   ]
  },
  {
   "cell_type": "code",
   "execution_count": 32,
   "metadata": {
    "collapsed": false
   },
   "outputs": [
   ],
   "source": [
    "def eh_raiz_primitiva(x, modulo):\n",
    "    if x <= 0 or x >= modulo:\n",
    "        return False\n",
    "    \n",
    "    residuos = []\n",
    "    \n",
    "    for potencia in range(1, modulo):\n",
    "        resultado = x^potencia % modulo\n",
    "        # print(f'{x}^{potencia} mod {modulo} = {resultado}')\n",
    "        residuos.append(resultado)\n",
    "    \n",
    "    # Deve possuir todos os resíduos do primo\n",
    "    for i in range(1, modulo):\n",
    "        if i in residuos:\n",
    "            residuos.remove(i)\n",
    "            \n",
    "    return len(residuos) == 0"
   ]
  },
  {
   "cell_type": "code",
   "execution_count": 18,
   "metadata": {
    "collapsed": false
   },
   "outputs": [
   ],
   "source": [
    "def obter_raiz_primitiva(primo):\n",
    "    raiz = 0\n",
    "    while True:\n",
    "        raiz = int(input(\"Insira o número inteiro público (raiz primitiva do primo): \"))\n",
    "        if eh_raiz_primitiva(raiz, primo):\n",
    "            break\n",
    "    return raiz"
   ]
  },
  {
   "cell_type": "code",
   "execution_count": 24,
   "metadata": {
    "collapsed": false
   },
   "outputs": [
   ],
   "source": [
    "def escolher_chave_privada(primo):\n",
    "    chave = 0\n",
    "    while True:\n",
    "        chave = int(input(\"Digite a chave privada: \"))\n",
    "        if chave > 0 and chave < primo:\n",
    "            break\n",
    "    return chave"
   ]
  },
  {
   "cell_type": "code",
   "execution_count": 27,
   "metadata": {
    "collapsed": false
   },
   "outputs": [
   ],
   "source": [
    "def gerar_chave_publica(raiz_primitiva, chave_privada, primo):\n",
    "    return (raiz_primitiva^chave_privada) % primo"
   ]
  },
  {
   "cell_type": "markdown",
   "metadata": {
    "collapsed": false
   },
   "source": [
    "Escolha dos parâmetros iniciais:\n",
    "\n",
    "Um primo p e um inteiro α, tal que α &lt; p e α é uma raiz primitiva de p.\n",
    "\n"
   ]
  },
  {
   "cell_type": "code",
   "execution_count": 21,
   "metadata": {
    "cocalc": {
     "outputs": {
      "0": {
       "name": "input",
       "opts": {
        "password": false,
        "prompt": "Insira o número primo público: "
       },
       "output_type": "stream",
       "value": "17"
      }
     }
    },
    "collapsed": false
   },
   "outputs": [
    {
     "name": "stdout",
     "output_type": "stream",
     "text": "Insira o número primo público:  17"
    }
   ],
   "source": [
    "primo = obter_primo()"
   ]
  },
  {
   "cell_type": "code",
   "execution_count": 23,
   "metadata": {
    "cocalc": {
     "outputs": {
      "0": {
       "name": "input",
       "opts": {
        "password": false,
        "prompt": "Insira o número inteiro público (raiz primitiva do primo): "
       },
       "output_type": "stream",
       "value": "3"
      }
     }
    },
    "collapsed": false
   },
   "outputs": [
    {
     "name": "stdout",
     "output_type": "stream",
     "text": "Insira o número inteiro público (raiz primitiva do primo):  3"
    },
    {
     "name": "stdout",
     "output_type": "stream",
     "text": [
      "3^1 mod 17 = 3\n",
      "3^2 mod 17 = 9\n",
      "3^3 mod 17 = 10\n",
      "3^4 mod 17 = 13\n",
      "3^5 mod 17 = 5\n",
      "3^6 mod 17 = 15\n",
      "3^7 mod 17 = 11\n",
      "3^8 mod 17 = 16\n",
      "3^9 mod 17 = 14\n",
      "3^10 mod 17 = 8\n",
      "3^11 mod 17 = 7\n",
      "3^12 mod 17 = 4\n",
      "3^13 mod 17 = 12\n",
      "3^14 mod 17 = 2\n",
      "3^15 mod 17 = 6\n",
      "3^16 mod 17 = 1\n"
     ]
    }
   ],
   "source": [
    "raiz_primitiva = obter_raiz_primitiva(primo)"
   ]
  },
  {
   "cell_type": "markdown",
   "metadata": {
    "collapsed": false
   },
   "source": [
    "Geração de chaves:\n"
   ]
  },
  {
   "cell_type": "code",
   "execution_count": 29,
   "metadata": {
    "cocalc": {
     "outputs": {
      "0": {
       "name": "input",
       "opts": {
        "password": false,
        "prompt": "Digite a chave privada: "
       },
       "output_type": "stream",
       "value": "15"
      }
     }
    },
    "collapsed": false
   },
   "outputs": [
    {
     "name": "stdout",
     "output_type": "stream",
     "text": "Digite a chave privada:  15"
    },
    {
     "name": "stdout",
     "output_type": "stream",
     "text": [
      "Chave privada 1: 15\n",
      "Chave pública 1: 6\n"
     ]
    }
   ],
   "source": [
    "chave_privada_1 = escolher_chave_privada(primo)\n",
    "chave_publica_1 = gerar_chave_publica(raiz_primitiva, chave_privada_1, primo)\n",
    "\n",
    "print(f'Chave privada 1: {chave_privada_1}')\n",
    "print(f'Chave pública 1: {chave_publica_1}')"
   ]
  },
  {
   "cell_type": "code",
   "execution_count": 30,
   "metadata": {
    "cocalc": {
     "outputs": {
      "0": {
       "name": "input",
       "opts": {
        "password": false,
        "prompt": "Digite a chave privada: "
       },
       "output_type": "stream",
       "value": "13"
      }
     }
    },
    "collapsed": false
   },
   "outputs": [
    {
     "name": "stdout",
     "output_type": "stream",
     "text": "Digite a chave privada:  13"
    },
    {
     "name": "stdout",
     "output_type": "stream",
     "text": [
      "Chave privada 2: 13\n",
      "Chave pública 2: 12\n"
     ]
    }
   ],
   "source": [
    "chave_privada_2 = escolher_chave_privada(primo)\n",
    "chave_publica_2 = gerar_chave_publica(raiz_primitiva, chave_privada_2, primo)\n",
    "\n",
    "print(f'Chave privada 2: {chave_privada_2}')\n",
    "print(f'Chave pública 2: {chave_publica_2}')"
   ]
  },
  {
   "cell_type": "markdown",
   "metadata": {
    "collapsed": false
   },
   "source": [
    "Para chegar no segredo, fazemos:\n",
    "\n",
    "Usuário 1: \\(chave pública 2 elevado a chave privada 1\\) módulo primo\n",
    "\n",
    "Usuário 2: \\(chave pública 1 elevado a chave privada 2\\) módulo primo\n"
   ]
  },
  {
   "cell_type": "code",
   "execution_count": 35,
   "metadata": {
    "collapsed": false
   },
   "outputs": [
    {
     "data": {
      "text/plain": [
       "10"
      ]
     },
     "execution_count": 35,
     "metadata": {
     },
     "output_type": "execute_result"
    }
   ],
   "source": [
    "segredo_1 = (chave_publica_2^chave_privada_1) % primo\n",
    "segredo_1"
   ]
  },
  {
   "cell_type": "code",
   "execution_count": 36,
   "metadata": {
    "collapsed": false
   },
   "outputs": [
    {
     "data": {
      "text/plain": [
       "10"
      ]
     },
     "execution_count": 36,
     "metadata": {
     },
     "output_type": "execute_result"
    }
   ],
   "source": [
    "segredo_2 = (chave_publica_1^chave_privada_2) % primo\n",
    "segredo_2"
   ]
  },
  {
   "cell_type": "code",
   "execution_count": 37,
   "metadata": {
    "collapsed": false
   },
   "outputs": [
    {
     "name": "stdout",
     "output_type": "stream",
     "text": [
      "Os dois usuários compartilham um valor secreto\n"
     ]
    }
   ],
   "source": [
    "if segredo_1 == segredo_2:\n",
    "    print('Os dois usuários compartilham um valor secreto')"
   ]
  },
  {
   "cell_type": "markdown",
   "metadata": {
    "collapsed": false
   },
   "source": [
    "# **Implemente Elgamal, com o usuário 2 \\(B\\) enviando mensagem cifrada para o usuário 1 \\(A\\).**\n",
    "\n"
   ]
  },
  {
   "cell_type": "markdown",
   "metadata": {
    "collapsed": false
   },
   "source": [
    "Variáveis:\n",
    "\n",
    "p é o primo \\-&gt; 17\n",
    "\n",
    "G é a raiz primitiva \\(gerador\\) \\-&gt; 6\n",
    "\n",
    "A é a chave privada 1 \\-&gt; 5\n",
    "\n",
    "e = G^A mod p \\-&gt; 7\n",
    "\n",
    "B é a chave privada 2 \\-&gt; 10\n",
    "\n",
    "M é a mensagem \\(deve ser menor que p\\) \\-&gt; 13\n",
    "\n",
    "Para o usuário 2 cifrar a mensagem:\n",
    "\n",
    "C1 = G^B mod p\n",
    "\n",
    "C2 = \\(M \\* e^B\\) mod p\n",
    "\n",
    "Para o usuário 1 decifrar a mensagem:\n",
    "\n",
    "X = C1^A mod p\n",
    "\n",
    "M = \\(C2 \\* X^p\\-2\\) mod p\n",
    "\n"
   ]
  },
  {
   "cell_type": "markdown",
   "metadata": {
    "collapsed": false
   },
   "source": [
    "Escolha dos parâmetros iniciais:\n",
    "\n",
    "Um primo p e um inteiro α, tal que α &lt; p e α é uma raiz primitiva de p.\n"
   ]
  },
  {
   "cell_type": "code",
   "execution_count": 38,
   "metadata": {
    "cocalc": {
     "outputs": {
      "0": {
       "name": "input",
       "opts": {
        "password": false,
        "prompt": "Insira o número primo público: "
       },
       "output_type": "stream",
       "value": "17"
      }
     }
    },
    "collapsed": false
   },
   "outputs": [
    {
     "name": "stdout",
     "output_type": "stream",
     "text": "Insira o número primo público:  17"
    }
   ],
   "source": [
    "primo = obter_primo()"
   ]
  },
  {
   "cell_type": "code",
   "execution_count": 39,
   "metadata": {
    "cocalc": {
     "outputs": {
      "0": {
       "name": "input",
       "opts": {
        "password": false,
        "prompt": "Insira o número inteiro público (raiz primitiva do primo): "
       },
       "output_type": "stream",
       "value": "6"
      }
     }
    },
    "collapsed": false
   },
   "outputs": [
    {
     "name": "stdout",
     "output_type": "stream",
     "text": "Insira o número inteiro público (raiz primitiva do primo):  6"
    }
   ],
   "source": [
    "raiz_primitiva = obter_raiz_primitiva(primo)"
   ]
  },
  {
   "cell_type": "markdown",
   "metadata": {
    "collapsed": false
   },
   "source": [
    "Geração das chaves:\n",
    "\n"
   ]
  },
  {
   "cell_type": "code",
   "execution_count": 40,
   "metadata": {
    "cocalc": {
     "outputs": {
      "0": {
       "name": "input",
       "opts": {
        "password": false,
        "prompt": "Digite a chave privada: "
       },
       "output_type": "stream",
       "value": "5"
      }
     }
    },
    "collapsed": false
   },
   "outputs": [
    {
     "name": "stdout",
     "output_type": "stream",
     "text": "Digite a chave privada:  5"
    }
   ],
   "source": [
    "chave_privada_1 = escolher_chave_privada(primo)"
   ]
  },
  {
   "cell_type": "code",
   "execution_count": 48,
   "metadata": {
    "collapsed": false
   },
   "outputs": [
    {
     "name": "stdout",
     "output_type": "stream",
     "text": [
      "Fatores da chave pública 1: 17, 6, 7\n"
     ]
    }
   ],
   "source": [
    "e_1 = (raiz_primitiva^chave_privada_1) % primo\n",
    "print(f'Fatores da chave pública 1: {primo}, {raiz_primitiva}, {e_1}')"
   ]
  },
  {
   "cell_type": "code",
   "execution_count": 44,
   "metadata": {
    "cocalc": {
     "outputs": {
      "0": {
       "name": "input",
       "opts": {
        "password": false,
        "prompt": "Digite a chave privada: "
       },
       "output_type": "stream",
       "value": "10"
      }
     }
    },
    "collapsed": false
   },
   "outputs": [
    {
     "name": "stdout",
     "output_type": "stream",
     "text": "Digite a chave privada:  10"
    }
   ],
   "source": [
    "chave_privada_2 = escolher_chave_privada(primo)"
   ]
  },
  {
   "cell_type": "markdown",
   "metadata": {
    "collapsed": false
   },
   "source": [
    "Usuário 2 cifrando a mensagem:\n"
   ]
  },
  {
   "cell_type": "code",
   "execution_count": 52,
   "metadata": {
    "cocalc": {
     "outputs": {
      "0": {
       "name": "input",
       "opts": {
        "password": false,
        "prompt": "Insira a mensagem a ser transmitida pelo usuário 2: "
       },
       "output_type": "stream",
       "value": "13"
      }
     }
    },
    "collapsed": false
   },
   "outputs": [
    {
     "name": "stdout",
     "output_type": "stream",
     "text": "Insira a mensagem a ser transmitida pelo usuário 2:  13"
    }
   ],
   "source": [
    "while True:\n",
    "    mensagem = int(input(\"Insira a mensagem a ser transmitida pelo usuário 2: \"))\n",
    "    if mensagem < primo:\n",
    "        break"
   ]
  },
  {
   "cell_type": "code",
   "execution_count": 55,
   "metadata": {
    "collapsed": false
   },
   "outputs": [
    {
     "name": "stdout",
     "output_type": "stream",
     "text": [
      "C1 = 15\n",
      "C2 = 9\n"
     ]
    }
   ],
   "source": [
    "C1 = (raiz_primitiva^chave_privada_2) % primo\n",
    "C2 = (mensagem * e^chave_privada_2) % primo\n",
    "\n",
    "print(f'C1 = {C1}\\nC2 = {C2}')"
   ]
  },
  {
   "cell_type": "markdown",
   "metadata": {
    "collapsed": false
   },
   "source": [
    "Usuário 1 decifrando a mensagem:\n"
   ]
  },
  {
   "cell_type": "code",
   "execution_count": 58,
   "metadata": {
    "collapsed": false
   },
   "outputs": [
    {
     "name": "stdout",
     "output_type": "stream",
     "text": [
      "X = 2\n",
      "M = 13\n"
     ]
    }
   ],
   "source": [
    "X = (C1^chave_privada_1) % primo\n",
    "mensagem_texto_claro = (C2 * X^(primo - 2)) % primo\n",
    "\n",
    "print(f'X = {X}\\nM = {mensagem_texto_claro}')"
   ]
  }
 ],
 "metadata": {
  "kernelspec": {
   "argv": [
    "sage-10.0",
    "--python",
    "-m",
    "sage.repl.ipython_kernel",
    "--matplotlib=inline",
    "-f",
    "{connection_file}"
   ],
   "display_name": "SageMath 10.0",
   "env": {
   },
   "language": "sagemath",
   "metadata": {
    "cocalc": {
     "description": "Open-source mathematical software system",
     "priority": 1,
     "url": "https://www.sagemath.org/"
    }
   },
   "name": "sage-10.0",
   "resource_dir": "/ext/jupyter/kernels/sage-10.0"
  },
  "language_info": {
   "codemirror_mode": {
    "name": "ipython",
    "version": 3
   },
   "file_extension": ".py",
   "mimetype": "text/x-python",
   "name": "python",
   "nbconvert_exporter": "python",
   "pygments_lexer": "ipython3",
   "version": "3.11.1"
  }
 },
 "nbformat": 4,
 "nbformat_minor": 4
}