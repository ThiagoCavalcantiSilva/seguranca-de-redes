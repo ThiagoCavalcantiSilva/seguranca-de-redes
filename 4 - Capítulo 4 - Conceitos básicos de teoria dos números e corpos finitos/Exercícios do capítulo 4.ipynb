{
 "cells": [
  {
   "cell_type": "markdown",
   "metadata": {
    "collapsed": false
   },
   "source": [
    "# **9. Estruture uma calculadora simples de quatro funções em GF\\(2^4\\). Você pode usar uma tabela com valores pré\\-calculados para os inversos multiplicativos.**\n",
    "\n"
   ]
  },
  {
   "cell_type": "code",
   "execution_count": 3,
   "metadata": {
    "collapsed": false
   },
   "outputs": [
   ],
   "source": [
    "ordem_do_corpo = 2^4"
   ]
  },
  {
   "cell_type": "markdown",
   "metadata": {
    "collapsed": false
   },
   "source": [
    "Definindo a tabela de inversos multiplicativos:\n",
    "\n"
   ]
  },
  {
   "cell_type": "code",
   "execution_count": 4,
   "metadata": {
    "collapsed": false
   },
   "outputs": [
   ],
   "source": [
    "inversos_multiplicativos = {\n",
    "    0: None, 1: 1, 2: None, 3: 11,\n",
    "    4: None, 5: 13, 6: None, 7: 7,\n",
    "    8: None, 9: 9, 10: None, 11: 3,\n",
    "    12:None, 13: 5, 14: None, 15: 15\n",
    "}"
   ]
  },
  {
   "cell_type": "markdown",
   "metadata": {
    "collapsed": false
   },
   "source": [
    "Definindo funções de operações:\n"
   ]
  },
  {
   "cell_type": "code",
   "execution_count": 5,
   "metadata": {
    "collapsed": false
   },
   "outputs": [
   ],
   "source": [
    "def mod(numero, modulo):\n",
    "    return numero % modulo"
   ]
  },
  {
   "cell_type": "code",
   "execution_count": 6,
   "metadata": {
    "collapsed": false
   },
   "outputs": [
   ],
   "source": [
    "def somar(a, b):\n",
    "    return mod(a + b, ordem_do_corpo)"
   ]
  },
  {
   "cell_type": "code",
   "execution_count": 7,
   "metadata": {
    "collapsed": false
   },
   "outputs": [
   ],
   "source": [
    "def subtrair(a, b):\n",
    "    return mod(a - b, ordem_do_corpo)"
   ]
  },
  {
   "cell_type": "code",
   "execution_count": 8,
   "metadata": {
    "collapsed": false
   },
   "outputs": [
   ],
   "source": [
    "def multiplicar(a, b):\n",
    "    return mod(a * b, ordem_do_corpo)"
   ]
  },
  {
   "cell_type": "code",
   "execution_count": 9,
   "metadata": {
    "collapsed": false
   },
   "outputs": [
   ],
   "source": [
    "def dividir(a, b):\n",
    "    if b == 0:\n",
    "        return None  # Divisão por zero não é possível\n",
    "    else:\n",
    "        inverso_b = inversos_multiplicativos[b]\n",
    "        if inverso_b is None:\n",
    "            return None  # Não é possível encontrar o inverso\n",
    "        return mod(a * inverso_b, ordem_do_corpo)"
   ]
  },
  {
   "cell_type": "code",
   "execution_count": 10,
   "metadata": {
    "collapsed": false
   },
   "outputs": [
   ],
   "source": [
    "a = 9\n",
    "b = 3"
   ]
  },
  {
   "cell_type": "code",
   "execution_count": 11,
   "metadata": {
    "collapsed": false
   },
   "outputs": [
    {
     "name": "stdout",
     "output_type": "stream",
     "text": [
      "A soma de 9 e 3 em GF(16) é 12\n",
      "A subtração de 9 por 3 em GF(16) é 6\n",
      "A multiplicação de 9 e 3 em GF(16) é 11\n",
      "A divisão de 9 por 3 em GF(16) é 3\n"
     ]
    }
   ],
   "source": [
    "print(f'A soma de {a} e {b} em GF({ordem_do_corpo}) é {somar(a, b)}')\n",
    "print(f'A subtração de {a} por {b} em GF({ordem_do_corpo}) é {subtrair(a, b)}')\n",
    "print(f'A multiplicação de {a} e {b} em GF({ordem_do_corpo}) é {multiplicar(a, b)}')\n",
    "print(f'A divisão de {a} por {b} em GF({ordem_do_corpo}) é {dividir(a, b)}')"
   ]
  },
  {
   "cell_type": "markdown",
   "metadata": {
    "collapsed": false
   },
   "source": [
    "### Também poderíamos otimizar, usando as funções disponíveis no SageMath.\n",
    "\n",
    "Para criar o corpo finito, com ou sem ordem de uma potência prima. E também, utilizar as funções de operações que já são definidas como:\n",
    "\n",
    "Adição: a \\+ b\n",
    "\n",
    "Subtração: a \\- b\n",
    "\n",
    "Multiplicação: a \\* b\n",
    "\n",
    "Divisão: a / b\n",
    "\n",
    "Inverso multiplicativo: 1/a ou a^\\-1\n",
    "\n"
   ]
  }
 ],
 "metadata": {
  "kernelspec": {
   "argv": [
    "sage-10.0",
    "--python",
    "-m",
    "sage.repl.ipython_kernel",
    "--matplotlib=inline",
    "-f",
    "{connection_file}"
   ],
   "display_name": "SageMath 10.0",
   "env": {
   },
   "language": "sagemath",
   "metadata": {
    "cocalc": {
     "description": "Open-source mathematical software system",
     "priority": 1,
     "url": "https://www.sagemath.org/"
    }
   },
   "name": "sage-10.0",
   "resource_dir": "/ext/jupyter/kernels/sage-10.0"
  }
 },
 "nbformat": 4,
 "nbformat_minor": 4
}