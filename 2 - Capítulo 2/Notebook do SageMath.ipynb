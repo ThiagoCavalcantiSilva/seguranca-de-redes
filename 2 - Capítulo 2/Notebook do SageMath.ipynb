{
 "cells": [
  {
   "cell_type": "markdown",
   "metadata": {
    "collapsed": false
   },
   "source": [
    "# **4. Elabore um programa que possa encriptar e decriptar usando a cifra de César geral, também conhecida como cifra aditiva.**\n",
    "\n"
   ]
  },
  {
   "cell_type": "markdown",
   "metadata": {
    "collapsed": false
   },
   "source": [
    "Definindo variáveis e funções auxiliares:\n"
   ]
  },
  {
   "cell_type": "code",
   "execution_count": 2,
   "metadata": {
    "collapsed": false
   },
   "outputs": [
   ],
   "source": [
    "alfabeto = \"zabcdefghijklmnopqrstuvwxy\""
   ]
  },
  {
   "cell_type": "code",
   "execution_count": 3,
   "metadata": {
    "collapsed": false
   },
   "outputs": [
   ],
   "source": [
    "def eh_caractere_alfabetico(caractere):\n",
    "    return (caractere.lower() in alfabeto)"
   ]
  },
  {
   "cell_type": "code",
   "execution_count": 4,
   "metadata": {
    "collapsed": false
   },
   "outputs": [
   ],
   "source": [
    "def caractere_para_numero(caractere):\n",
    "    return alfabeto.index(caractere.lower())"
   ]
  },
  {
   "cell_type": "code",
   "execution_count": 5,
   "metadata": {
    "collapsed": false
   },
   "outputs": [
   ],
   "source": [
    "def numero_para_caractere(numero):\n",
    "    return alfabeto[numero % 26]"
   ]
  },
  {
   "cell_type": "markdown",
   "metadata": {
    "collapsed": false
   },
   "source": [
    "#### Encriptação com a cifra de César utilizando qualquer chave inteira\n",
    "\n"
   ]
  },
  {
   "cell_type": "code",
   "execution_count": 6,
   "metadata": {
    "collapsed": false
   },
   "outputs": [
   ],
   "source": [
    "def encriptar_por_cesar(chave, texto_claro):\n",
    "    texto_cifrado = \"\"\n",
    "    for i in range(len(texto_claro)):\n",
    "        caractere_original = texto_claro[i]\n",
    "        if eh_caractere_alfabetico(caractere_original):\n",
    "            caractere_deslocado = (chave + caractere_para_numero(caractere_original)) % 26\n",
    "            caractere_cifrado = numero_para_caractere(caractere_deslocado)\n",
    "        else:\n",
    "            caractere_cifrado = caractere_original\n",
    "        texto_cifrado += caractere_cifrado\n",
    "    return texto_cifrado"
   ]
  },
  {
   "cell_type": "markdown",
   "metadata": {
    "collapsed": false
   },
   "source": [
    "#### Decriptação com a cifra de César utilizando qualquer chave inteira\n",
    "\n"
   ]
  },
  {
   "cell_type": "code",
   "execution_count": 7,
   "metadata": {
    "collapsed": false
   },
   "outputs": [
   ],
   "source": [
    "def decriptar_por_cesar(chave, texto_cifrado):\n",
    "    texto_claro = \"\"\n",
    "    for i in range(len(texto_cifrado)):\n",
    "        caractere_cifrado = texto_cifrado[i]\n",
    "        if eh_caractere_alfabetico(caractere_cifrado):\n",
    "            caractere_deslocado = (caractere_para_numero(caractere_cifrado) - chave) % 26\n",
    "            caractere_original = numero_para_caractere(caractere_deslocado)\n",
    "        else:\n",
    "            caractere_original = caractere_cifrado\n",
    "        texto_claro += caractere_original\n",
    "    return texto_claro"
   ]
  },
  {
   "cell_type": "markdown",
   "metadata": {
    "collapsed": false
   },
   "source": [
    "#### Execução do algoritmo da cifra de César\n",
    "\n"
   ]
  },
  {
   "cell_type": "code",
   "execution_count": 8,
   "metadata": {
    "collapsed": false
   },
   "outputs": [
   ],
   "source": [
    "chave = 10"
   ]
  },
  {
   "cell_type": "code",
   "execution_count": 9,
   "metadata": {
    "collapsed": false,
    "scrolled": true
   },
   "outputs": [
    {
     "name": "stdout",
     "output_type": "stream",
     "text": [
      "Texto cifrado: occo é y dohdy ybsqsxkv o k mrkfo é 10\n"
     ]
    }
   ],
   "source": [
    "texto_cifrado = encriptar_por_cesar(chave, f'Esse é o texto original e a chave é {chave}')\n",
    "print(f'Texto cifrado: {texto_cifrado}')"
   ]
  },
  {
   "cell_type": "code",
   "execution_count": 10,
   "metadata": {
    "collapsed": false
   },
   "outputs": [
    {
     "name": "stdout",
     "output_type": "stream",
     "text": [
      "Texto claro: esse é o texto original e a chave é 10\n"
     ]
    }
   ],
   "source": [
    "texto_claro = decriptar_por_cesar(chave, texto_cifrado)\n",
    "print(f'Texto claro: {texto_claro}')"
   ]
  },
  {
   "cell_type": "markdown",
   "metadata": {
    "collapsed": false
   },
   "source": [
    "# **5. Elabore um programa que possa realizar um ataque de frequência de letra em uma cifra aditiva sem intervenção humana. Seu software deverá produzir textos claros possíveis em ordem aproximada de probabilidade. Seria bom se a sua interface com o usuário permitisse que ele especificasse “mostre os 10 textos claros mais prováveis”.**\n",
    "\n"
   ]
  },
  {
   "cell_type": "markdown",
   "metadata": {
    "collapsed": false
   },
   "source": [
    "Para determinar qual texto é mais provável, calcularemos a probabilidade de acordo com a frequência que as letras aparecem nas frases em português\n"
   ]
  },
  {
   "cell_type": "code",
   "execution_count": 11,
   "metadata": {
    "collapsed": false
   },
   "outputs": [
   ],
   "source": [
    "frequencia_portugues = {\n",
    "    'a': 14.63, 'b': 1.04, 'c': 3.88, 'd': 5.901, 'e': 12.57, 'f': 1.02,\n",
    "    'g': 1.30, 'h': 1.28, 'i': 6.18, 'j': 0.40, 'k': 0.02, 'l': 2.78,\n",
    "    'm': 4.74, 'n': 5.05, 'o': 10.73, 'p': 2.52, 'q': 1.20, 'r': 6.53,\n",
    "    's': 7.81, 't': 4.34, 'u': 4.63, 'v': 1.67, 'w': 0.01, 'x': 0.21,\n",
    "    'y': 0.01, 'z': 0.47\n",
    "}\n",
    "\n",
    "\n",
    "# Função para calcular a pontuação de um texto com base na frequência das letras\n",
    "def calcular_pontuacao(texto):\n",
    "    pontuacao = 0\n",
    "    for caractere in texto:\n",
    "        if caractere in alfabeto:\n",
    "            pontuacao += frequencia_portugues[caractere]\n",
    "    return pontuacao"
   ]
  },
  {
   "cell_type": "code",
   "execution_count": 12,
   "metadata": {
    "collapsed": false
   },
   "outputs": [
   ],
   "source": [
    "import string\n",
    "\n",
    "def retornar_textos_claros_com_probabilidade(texto_cifrado):\n",
    "    textos_mais_provaveis = []\n",
    "    \n",
    "    for chave in range(26):\n",
    "        texto_claro = decriptar_por_cesar(chave, texto_cifrado)\n",
    "        pontuacao = calcular_pontuacao(texto_claro)\n",
    "        textos_mais_provaveis.append((chave, texto_claro, pontuacao))\n",
    "        \n",
    "    return textos_mais_provaveis"
   ]
  },
  {
   "cell_type": "code",
   "execution_count": 13,
   "metadata": {
    "collapsed": false
   },
   "outputs": [
   ],
   "source": [
    "def printar_textos_mais_provaveis(textos, quantidade_de_textos):\n",
    "    textos_mais_provaveis.sort(key=lambda x: -x[2])\n",
    "    \n",
    "    for i, (chave, texto_claro, pontuacao) in enumerate(textos[:quantidade_de_textos]):\n",
    "        print(f\"({i + 1}) - Chave = {chave:02d} - Texto decifrado: {texto_claro}\")"
   ]
  },
  {
   "cell_type": "code",
   "execution_count": 14,
   "metadata": {
    "collapsed": false,
    "scrolled": true
   },
   "outputs": [
    {
     "name": "stdout",
     "output_type": "stream",
     "text": [
      "(1) - Chave = 10 - Texto decifrado: qual será o texto claro?\n",
      "(2) - Chave = 24 - Texto decifrado: cgmx eqdá a fqjfa oxmda?\n",
      "(3) - Chave = 21 - Texto decifrado: fjpa htgá d itmid rapgd?\n"
     ]
    }
   ],
   "source": [
    "#numero_de_descricoes = int(input(\"Quantos textos mais prováveis você deseja visualizar? \"))\n",
    "numero_de_textos_provaveis = 3\n",
    "\n",
    "#texto_cifrado = input(\"Digite o texto cifrado\")\n",
    "texto_cifrado = 'aekv cobá y dohdy mvkby?'\n",
    "\n",
    "textos_mais_provaveis = retornar_textos_claros_com_probabilidade(texto_cifrado)\n",
    "printar_textos_mais_provaveis(textos_mais_provaveis, numero_de_textos_provaveis)"
   ]
  },
  {
   "cell_type": "markdown",
   "metadata": {
    "collapsed": false
   },
   "source": [
    "# **6. Crie um software que possa encriptar e decriptar usando uma cifra de Hill 2 × 2.**\n",
    "\n"
   ]
  },
  {
   "cell_type": "markdown",
   "metadata": {
    "collapsed": false
   },
   "source": [
    "Funções auxiliares para a matriz:\n"
   ]
  },
  {
   "cell_type": "code",
   "execution_count": 15,
   "metadata": {
    "collapsed": false
   },
   "outputs": [
   ],
   "source": [
    "def ler_matriz_chave():\n",
    "    while True:\n",
    "        try:\n",
    "            entrada = input(\"Informe os elementos da matriz 2x2 separados por espaços (exemplo: 1 2 3 4): \")\n",
    "            elementos = list(map(int, entrada.split()))\n",
    "            if len(elementos) == 4:\n",
    "                return elementos\n",
    "                break\n",
    "            else:\n",
    "                print(\"Você deve fornecer exatamente 4 números separados por espaços.\")\n",
    "        except ValueError:\n",
    "            print(\"Por favor, insira números inteiros válidos.\")"
   ]
  },
  {
   "cell_type": "code",
   "execution_count": 16,
   "metadata": {
    "collapsed": false
   },
   "outputs": [
   ],
   "source": [
    "def criar_matriz_2x2(elementos):\n",
    "    return matrix([ [elementos[0], elementos[1]], [elementos[2], elementos[3]] ])"
   ]
  },
  {
   "cell_type": "code",
   "execution_count": 17,
   "metadata": {
    "collapsed": false
   },
   "outputs": [
   ],
   "source": [
    "def obter_determinante(matriz_chave):\n",
    "    return matriz_chave.determinant()"
   ]
  },
  {
   "cell_type": "code",
   "execution_count": 18,
   "metadata": {
    "collapsed": false
   },
   "outputs": [
   ],
   "source": [
    "def obter_inverso_multiplicativo_modular(determinante):\n",
    "    return inverse_mod(determinante, 26)"
   ]
  },
  {
   "cell_type": "code",
   "execution_count": 19,
   "metadata": {
    "collapsed": false
   },
   "outputs": [
   ],
   "source": [
    "def obter_matriz_inversa(matriz_chave):\n",
    "    return matriz_chave^-1"
   ]
  },
  {
   "cell_type": "code",
   "execution_count": 20,
   "metadata": {
    "collapsed": false
   },
   "outputs": [
   ],
   "source": [
    "def obter_matriz_decodificadora(matriz_chave):\n",
    "    determinante = obter_determinante(matriz_chave)\n",
    "    \n",
    "    inverso_multiplicativo_modular = obter_inverso_multiplicativo_modular(determinante)\n",
    "    \n",
    "    matriz_inversa = obter_matriz_inversa(matriz_chave)\n",
    "    matriz_inversa = matriz_inversa * matriz_chave.determinant()\n",
    "    \n",
    "    return (inverso_multiplicativo_modular * matriz_inversa) % 26"
   ]
  },
  {
   "cell_type": "markdown",
   "metadata": {
    "collapsed": false
   },
   "source": [
    "Funções auxiliares para a encriptação:\n",
    "\n"
   ]
  },
  {
   "cell_type": "code",
   "execution_count": 21,
   "metadata": {
    "collapsed": false
   },
   "outputs": [
   ],
   "source": [
    "def quebrar_frase_em_blocos(texto_claro, tamanho_do_bloco):\n",
    "    blocos = []\n",
    "    for i in range(0, len(texto_claro), tamanho_do_bloco):\n",
    "        blocos.append(texto_claro[i:i+tamanho_do_bloco].lower())\n",
    "    return blocos"
   ]
  },
  {
   "cell_type": "code",
   "execution_count": 22,
   "metadata": {
    "collapsed": false
   },
   "outputs": [
   ],
   "source": [
    "def converter_par_para_matriz_numerica(bloco):\n",
    "    matriz = Matrix(2, 1, [caractere_para_numero(bloco[0]), caractere_para_numero(bloco[1])])\n",
    "    return matriz"
   ]
  },
  {
   "cell_type": "markdown",
   "metadata": {
    "collapsed": false
   },
   "source": [
    "Funções para casos em que a string não pode ser dividida perfeitamente pelo tamanho do bloco\n"
   ]
  },
  {
   "cell_type": "code",
   "execution_count": 23,
   "metadata": {
    "collapsed": false
   },
   "outputs": [
   ],
   "source": [
    "def adicionar_caractere_repetido(texto):\n",
    "    texto += texto[-1]\n",
    "    return texto"
   ]
  },
  {
   "cell_type": "code",
   "execution_count": 24,
   "metadata": {
    "collapsed": false
   },
   "outputs": [
   ],
   "source": [
    "def remover_caractere_repetido(texto):\n",
    "    return texto[:-1]"
   ]
  },
  {
   "cell_type": "markdown",
   "metadata": {
    "collapsed": false
   },
   "source": [
    "#### Encriptação com a cifra de Hill 2x2\n",
    "\n"
   ]
  },
  {
   "cell_type": "code",
   "execution_count": 25,
   "metadata": {
    "collapsed": false
   },
   "outputs": [
   ],
   "source": [
    "def encriptar_por_hill(texto_claro, matriz_chave):\n",
    "    if repete_a_ultima_letra:\n",
    "        texto_claro = adicionar_caractere_repetido(texto_claro)\n",
    "    \n",
    "    blocos_do_texto_claro = quebrar_frase_em_blocos(texto_claro, 2)\n",
    "    # print(f'Frase quebrada em blocos de 2 em 2 caracteres: {blocos_do_texto_claro}')\n",
    "    \n",
    "    texto_cifrado = ''\n",
    "    \n",
    "    for par in blocos_do_texto_claro:\n",
    "        matriz_do_bloco = converter_par_para_matriz_numerica(par)\n",
    "        resultado = matriz_chave * matriz_do_bloco\n",
    "        resultado = resultado.apply_map(lambda x: x % 26)\n",
    "        texto_cifrado += numero_para_caractere(resultado[0, 0]) + numero_para_caractere(resultado[1, 0])\n",
    "    \n",
    "    return texto_cifrado.upper()"
   ]
  },
  {
   "cell_type": "markdown",
   "metadata": {
    "collapsed": false
   },
   "source": [
    "#### Decriptação com a cifra de Hill 2x2\n",
    "\n"
   ]
  },
  {
   "cell_type": "code",
   "execution_count": 26,
   "metadata": {
    "collapsed": false
   },
   "outputs": [
   ],
   "source": [
    "def decriptar_por_hill(texto_cifrado, matriz_chave):\n",
    "    blocos_do_texto_cifrado = quebrar_frase_em_blocos(texto_cifrado, 2)\n",
    "    # print(f'Frase quebrada em blocos de 2 em 2 caracteres: {blocos_do_texto_cifrado}')\n",
    "    \n",
    "    matriz_decodificadora = obter_matriz_decodificadora(matriz_chave)\n",
    "\n",
    "    texto_decifrado = ''\n",
    "    \n",
    "    for par in blocos_do_texto_cifrado:\n",
    "        matriz_do_bloco = converter_par_para_matriz_numerica(par)\n",
    "        resultado = matriz_decodificadora * matriz_do_bloco\n",
    "        resultado = resultado.apply_map(lambda x: x % 26)\n",
    "        texto_decifrado += numero_para_caractere(resultado[0, 0]) + numero_para_caractere(resultado[1, 0])\n",
    "        \n",
    "    if repete_a_ultima_letra:\n",
    "        texto_decifrado = remover_caractere_repetido(texto_decifrado)\n",
    "\n",
    "    return texto_decifrado.lower()"
   ]
  },
  {
   "cell_type": "markdown",
   "metadata": {
    "collapsed": false
   },
   "source": [
    "Obtendo dados do terminal \\(chave e frase\\):\n",
    "\n"
   ]
  },
  {
   "cell_type": "code",
   "execution_count": 27,
   "metadata": {
    "cocalc": {
     "outputs": {
      "0": {
       "name": "input",
       "opts": {
        "password": false,
        "prompt": "Informe os elementos da matriz 2x2 separados por espaços (exemplo: 1 2 3 4): "
       },
       "output_type": "stream",
       "value": "9 4 5 7"
      }
     }
    },
    "collapsed": false
   },
   "outputs": [
    {
     "data": {
      "text/plain": [
       "[9 4]\n",
       "[5 7]"
      ]
     },
     "execution_count": 27,
     "metadata": {
     },
     "output_type": "execute_result"
    }
   ],
   "source": [
    "#elementos = ler_matriz_chave()\n",
    "elementos = [9, 4, 5, 7]\n",
    "matriz_chave = criar_matriz_2x2(elementos)\n",
    "matriz_chave"
   ]
  },
  {
   "cell_type": "code",
   "execution_count": 28,
   "metadata": {
    "cocalc": {
     "outputs": {
      "0": {
       "name": "input",
       "opts": {
        "password": false,
        "prompt": "Digite uma frase a ser cifrada com Hill 2x2: "
       },
       "output_type": "stream",
       "value": "meet me at the usual place at ten rather than eight oclock"
      }
     }
    },
    "collapsed": false
   },
   "outputs": [
   ],
   "source": [
    "#texto_claro = input(\"Digite uma frase a ser cifrada com Hill 2x2: \")\n",
    "texto_claro = 'meet me at the usual place at ten rather than eight oclock'\n",
    "\n",
    "texto_claro_sem_espacos = texto_claro.replace(\" \", \"\")\n",
    "repete_a_ultima_letra = len(texto_claro_sem_espacos) % 2 == 1 # Se o tamanho da palavra for ímpar, repete a última para formar o bloco"
   ]
  },
  {
   "cell_type": "code",
   "execution_count": 29,
   "metadata": {
    "collapsed": false
   },
   "outputs": [
    {
     "name": "stdout",
     "output_type": "stream",
     "text": [
      "O texto cifrado por Hill é: GVUIGVKODZYPUHEKJHUZWFZFWSJSDZMUDZMYCJQMFWWUQRMB\n",
      "O texto decifrado por Hill é: meetmeattheusualplaceattenratherthaneightoclock\n"
     ]
    }
   ],
   "source": [
    "texto_cifrado = encriptar_por_hill(texto_claro_sem_espacos, matriz_chave)\n",
    "print(f'O texto cifrado por Hill é: {texto_cifrado}')\n",
    "\n",
    "texto_decifrado = decriptar_por_hill(texto_cifrado, matriz_chave)\n",
    "print(f'O texto decifrado por Hill é: {texto_decifrado}')"
   ]
  },
  {
   "cell_type": "markdown",
   "metadata": {
    "collapsed": false
   },
   "source": [
   ]
  }
 ],
 "metadata": {
  "kernelspec": {
   "argv": [
    "sage-10.0",
    "--python",
    "-m",
    "sage.repl.ipython_kernel",
    "--matplotlib=inline",
    "-f",
    "{connection_file}"
   ],
   "display_name": "SageMath 10.0",
   "env": {
   },
   "language": "sagemath",
   "metadata": {
    "cocalc": {
     "description": "Open-source mathematical software system",
     "priority": 1,
     "url": "https://www.sagemath.org/"
    }
   },
   "name": "sage-10.0",
   "resource_dir": "/ext/jupyter/kernels/sage-10.0"
  }
 },
 "nbformat": 4,
 "nbformat_minor": 4
}